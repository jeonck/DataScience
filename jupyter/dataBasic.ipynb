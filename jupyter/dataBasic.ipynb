{
 "cells": [
  {
   "cell_type": "code",
   "execution_count": 7,
   "metadata": {},
   "outputs": [
    {
     "name": "stdout",
     "output_type": "stream",
     "text": [
      "데이터프레임:\n",
      "   name  age  score\n",
      "0  홍길동   25     85\n",
      "1  이순신   35     90\n",
      "2  강감찬   45     95\n",
      "\n",
      "데이터 요약 정보:\n",
      "<class 'pandas.core.frame.DataFrame'>\n",
      "RangeIndex: 3 entries, 0 to 2\n",
      "Data columns (total 3 columns):\n",
      " #   Column  Non-Null Count  Dtype \n",
      "---  ------  --------------  ----- \n",
      " 0   name    3 non-null      object\n",
      " 1   age     3 non-null      int64 \n",
      " 2   score   3 non-null      int64 \n",
      "dtypes: int64(2), object(1)\n",
      "memory usage: 204.0+ bytes\n",
      "None\n",
      "\n",
      "기초 통계량:\n",
      "        age  score\n",
      "count   3.0    3.0\n",
      "mean   35.0   90.0\n",
      "std    10.0    5.0\n",
      "min    25.0   85.0\n",
      "25%    30.0   87.5\n",
      "50%    35.0   90.0\n",
      "75%    40.0   92.5\n",
      "max    45.0   95.0\n",
      "\n",
      "'name' 열 선택:\n",
      "0    홍길동\n",
      "1    이순신\n",
      "2    강감찬\n",
      "Name: name, dtype: object\n",
      "\n",
      "나이가 30 이상인 데이터:\n",
      "  name  age  score\n",
      "1  이순신   35     90\n",
      "2  강감찬   45     95\n"
     ]
    },
    {
     "data": {
      "image/png": "[encoded data removed]",
      "text/plain": [
       "<Figure size 640x480 with 1 Axes>"
      ]
     },
     "metadata": {},
     "output_type": "display_data"
    }
   ],
   "source": [
    "import pandas as pd\n",
    "\n",
    "# 데이터 사이언스 기본 소양 예제\n",
    "\n",
    "# 1. 데이터 불러오기 및 확인\n",
    "\n",
    "# 예제 데이터프레임 생성\n",
    "data = {\n",
    "    'name': ['홍길동', '이순신', '강감찬'],\n",
    "    'age': [25, 35, 45],\n",
    "    'score': [85, 90, 95]\n",
    "}\n",
    "df = pd.DataFrame(data)\n",
    "\n",
    "# 데이터프레임 출력\n",
    "print(\"데이터프레임:\\n\", df)\n",
    "\n",
    "# 2. 데이터 요약 정보 확인\n",
    "print(\"\\n데이터 요약 정보:\")\n",
    "print(df.info())\n",
    "\n",
    "# 3. 기초 통계량 확인\n",
    "print(\"\\n기초 통계량:\")\n",
    "print(df.describe())\n",
    "\n",
    "# 4. 특정 열 선택\n",
    "print(\"\\n'name' 열 선택:\")\n",
    "print(df['name'])\n",
    "\n",
    "# 5. 조건에 따른 데이터 필터링\n",
    "print(\"\\n나이가 30 이상인 데이터:\")\n",
    "print(df[df['age'] >= 30])\n",
    "\n",
    "# 6. 데이터 시각화\n",
    "import matplotlib.pyplot as plt\n",
    "\n",
    "# 점수 분포 시각화\n",
    "plt.hist(df['score'], bins=5, edgecolor='black')\n",
    "plt.title('score distribution')\n",
    "plt.xlabel('score')\n",
    "plt.ylabel('frequency')\n",
    "plt.show()"
   ]
  }
 ],
 "metadata": {
  "kernelspec": {
   "display_name": "Python 3",
   "language": "python",
   "name": "python3"
  },
  "language_info": {
   "codemirror_mode": {
    "name": "ipython",
    "version": 3
   },
   "file_extension": ".py",
   "mimetype": "text/x-python",
   "name": "python",
   "nbconvert_exporter": "python",
   "pygments_lexer": "ipython3",
   "version": "3.12.4"
  }
 },
 "nbformat": 4,
 "nbformat_minor": 2
}
